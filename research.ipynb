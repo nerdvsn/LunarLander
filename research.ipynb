{
 "cells": [
  {
   "cell_type": "code",
   "execution_count": 1,
   "id": "702e5918",
   "metadata": {},
   "outputs": [],
   "source": [
    "import gymnasium as gym"
   ]
  },
  {
   "cell_type": "code",
   "execution_count": null,
   "id": "6ad2634e",
   "metadata": {},
   "outputs": [
    {
     "name": "stderr",
     "output_type": "stream",
     "text": [
      "/home/lukelo-tshakulongo/miniconda3/envs/mrl/lib/python3.10/site-packages/pygame/pkgdata.py:25: UserWarning: pkg_resources is deprecated as an API. See https://setuptools.pypa.io/en/latest/pkg_resources.html. The pkg_resources package is slated for removal as early as 2025-11-30. Refrain from using this package or pin to Setuptools<81.\n",
      "  from pkg_resources import resource_stream, resource_exists\n"
     ]
    }
   ],
   "source": [
    "# Ziel von LunarLander:\n",
    "# ----------------------\n",
    "# Der Agent soll die Landefähre sicher und kontrolliert auf der Zielplattform landen,\n",
    "# ohne abzustürzen oder das Spielfeld zu verlassen.\n",
    "\n",
    "# Belohnungssystem (Reward):\n",
    "# --------------------------\n",
    "# +100 bis +140 Punkte:   Sichere Landung auf der Zielplattform (zwischen den Flaggen)\n",
    "# +10 Punkte je Bein:     Wenn das linke oder rechte Bein Bodenkontakt hat\n",
    "# −0.3 Punkte pro Schritt: Kleine Strafe pro Zeitschritt (vermeidet langes Schweben)\n",
    "# −100 Punkte:            Harte Landung, Kippen oder Verlassen des Spielfelds (Absturz)\n",
    "\n",
    "\n",
    "# Initialise the environment\n",
    "env = gym.make(\"LunarLander-v3\", render_mode=\"human\")"
   ]
  },
  {
   "cell_type": "code",
   "execution_count": 11,
   "id": "97a2fa21",
   "metadata": {},
   "outputs": [
    {
     "data": {
      "text/plain": [
       "np.int64(3)"
      ]
     },
     "execution_count": 11,
     "metadata": {},
     "output_type": "execute_result"
    }
   ],
   "source": [
    "# Aktionsraum (Action Space) in LunarLander: Discrete(4)\n",
    "# Es gibt genau 4 mögliche Aktionen, nummeriert von 0 bis 3:\n",
    "# 0: Keine Aktion (Motoren aus)\n",
    "# 1: Haupttriebwerk zünden (nach oben)\n",
    "# 2: Linkes Seiten-Triebwerk zünden (Schub nach rechts)\n",
    "# 3: Rechtes Seiten-Triebwerk zünden (Schub nach links)\n",
    "\n",
    "env.action_space.sample()"
   ]
  },
  {
   "cell_type": "code",
   "execution_count": 7,
   "id": "62575a15",
   "metadata": {},
   "outputs": [
    {
     "data": {
      "text/plain": [
       "array([ 2.1902125 ,  0.70558715, -0.56752306, -2.5107107 , -2.4174318 ,\n",
       "        3.9664743 ,  0.8576762 ,  0.6316692 ], dtype=float32)"
      ]
     },
     "execution_count": 7,
     "metadata": {},
     "output_type": "execute_result"
    }
   ],
   "source": [
    "\n",
    "# Beobachtungsraum (State-Vector) in LunarLander (8 Dimensionen):\n",
    "# 0: X-Position                    → Wertebereich: -2.5 bis 2.5\n",
    "# 1: Y-Position                    → Wertebereich: -2.5 bis 2.5\n",
    "# 2: X-Geschwindigkeit             → Wertebereich: -10 bis 10\n",
    "# 3: Y-Geschwindigkeit             → Wertebereich: -10 bis 10\n",
    "# 4: Rotation (Winkel)             → Wertebereich: -2π bis 2π ≈ -6.28 bis 6.28\n",
    "# 5: Winkelgeschwindigkeit         → Wertebereich: -10 bis 10\n",
    "# 6: Bodenkontakt linkes Bein      → Wertebereich: 0 bis 1 (bool)\n",
    "# 7: Bodenkontakt rechtes Bein     → Wertebereich: 0 bis 1 (bool)\n",
    "\n",
    "\n",
    "#Box(low, high, shape, dtype)\n",
    "\n",
    "env.observation_space.sample()"
   ]
  },
  {
   "cell_type": "code",
   "execution_count": null,
   "id": "f69b10e5",
   "metadata": {},
   "outputs": [],
   "source": []
  }
 ],
 "metadata": {
  "kernelspec": {
   "display_name": "mrl",
   "language": "python",
   "name": "python3"
  },
  "language_info": {
   "codemirror_mode": {
    "name": "ipython",
    "version": 3
   },
   "file_extension": ".py",
   "mimetype": "text/x-python",
   "name": "python",
   "nbconvert_exporter": "python",
   "pygments_lexer": "ipython3",
   "version": "3.10.18"
  }
 },
 "nbformat": 4,
 "nbformat_minor": 5
}
